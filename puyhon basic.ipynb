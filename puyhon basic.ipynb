{
  "nbformat": 4,
  "nbformat_minor": 0,
  "metadata": {
    "kernelspec": {
      "display_name": "Python 3",
      "language": "python",
      "name": "python3"
    },
    "language_info": {
      "codemirror_mode": {
        "name": "ipython",
        "version": 3
      },
      "file_extension": ".py",
      "mimetype": "text/x-python",
      "name": "python",
      "nbconvert_exporter": "python",
      "pygments_lexer": "ipython3",
      "version": "3.7.3"
    },
    "colab": {
      "name": "21-06-19.ipynb",
      "provenance": [],
      "include_colab_link": true
    }
  },
  "cells": [
    {
      "cell_type": "markdown",
      "metadata": {
        "id": "view-in-github",
        "colab_type": "text"
      },
      "source": [
        "<a href=\"https://colab.research.google.com/github/isukapallipraveenvarma/python/blob/master/puyhon%20basic.ipynb\" target=\"_parent\"><img src=\"https://colab.research.google.com/assets/colab-badge.svg\" alt=\"Open In Colab\"/></a>"
      ]
    },
    {
      "cell_type": "code",
      "metadata": {
        "id": "FEGJgEYdkg7Z",
        "outputId": "1c3b0f7d-0f65-4182-c291-d9972af9a57e"
      },
      "source": [
        "print (\"hello\")"
      ],
      "execution_count": null,
      "outputs": [
        {
          "output_type": "stream",
          "text": [
            "hello\n"
          ],
          "name": "stdout"
        }
      ]
    },
    {
      "cell_type": "code",
      "metadata": {
        "id": "1sfOsZt9k2oJ"
      },
      "source": [
        ""
      ],
      "execution_count": null,
      "outputs": []
    },
    {
      "cell_type": "code",
      "metadata": {
        "id": "aNF62M3Ikg7n",
        "outputId": "eb307a26-d104-46ea-cbbc-95c72ff18331"
      },
      "source": [
        "x=10\n",
        "y=0\n",
        "print(x+y)      \n",
        "print(x-y)\n",
        "print(x*y)\n",
        "print(x/y)"
      ],
      "execution_count": null,
      "outputs": [
        {
          "output_type": "stream",
          "text": [
            "20\n",
            "0\n",
            "100\n",
            "1.0\n"
          ],
          "name": "stdout"
        }
      ]
    },
    {
      "cell_type": "code",
      "metadata": {
        "id": "TfQe7pCrkg7s",
        "outputId": "5508b3a1-3c90-4791-bc7f-96f20be68b04"
      },
      "source": [
        "x=2\n",
        "res=x*10\n",
        "print(res\n",
        "     )"
      ],
      "execution_count": null,
      "outputs": [
        {
          "output_type": "stream",
          "text": [
            "20\n"
          ],
          "name": "stdout"
        }
      ]
    },
    {
      "cell_type": "code",
      "metadata": {
        "id": "pqmZuXiykg7w",
        "outputId": "8d96a7d4-ee57-4a4e-cbe3-c7b8299eb74c"
      },
      "source": [
        "x=2\n",
        "y=x**5\n",
        "print(y)"
      ],
      "execution_count": null,
      "outputs": [
        {
          "output_type": "stream",
          "text": [
            "32\n"
          ],
          "name": "stdout"
        }
      ]
    },
    {
      "cell_type": "code",
      "metadata": {
        "id": "ryAktmbEkg71",
        "outputId": "b8e913bb-ec99-4b99-aa4b-62b3b2af09ee"
      },
      "source": [
        "x=20\n",
        "y=x//9\n",
        "print(y)"
      ],
      "execution_count": null,
      "outputs": [
        {
          "output_type": "stream",
          "text": [
            "2\n"
          ],
          "name": "stdout"
        }
      ]
    },
    {
      "cell_type": "code",
      "metadata": {
        "id": "nNYQI5vjkg7_",
        "outputId": "106a6b1d-e6eb-40df-e8c9-5df699cdff76"
      },
      "source": [
        "1+2**3/4*5"
      ],
      "execution_count": null,
      "outputs": [
        {
          "output_type": "execute_result",
          "data": {
            "text/plain": [
              "11.0"
            ]
          },
          "metadata": {
            "tags": []
          },
          "execution_count": 20
        }
      ]
    },
    {
      "cell_type": "code",
      "metadata": {
        "id": "dKFEUrGZkg8D",
        "outputId": "755b131d-977c-43f1-b07b-2d38a36559c6"
      },
      "source": [
        "2+5**6//4*8\n"
      ],
      "execution_count": null,
      "outputs": [
        {
          "output_type": "execute_result",
          "data": {
            "text/plain": [
              "31250"
            ]
          },
          "metadata": {
            "tags": []
          },
          "execution_count": 22
        }
      ]
    },
    {
      "cell_type": "code",
      "metadata": {
        "id": "zhX12M7skg8H",
        "outputId": "5becf4a6-39f7-4bd7-b361-e921cab4ff03"
      },
      "source": [
        "x=1\n",
        "res=(x<10)\n",
        "print(res)"
      ],
      "execution_count": null,
      "outputs": [
        {
          "output_type": "stream",
          "text": [
            "True\n"
          ],
          "name": "stdout"
        }
      ]
    },
    {
      "cell_type": "code",
      "metadata": {
        "id": "WMnv2msqkg8L",
        "outputId": "fe5070e9-947d-48a2-c845-ab5a86d1f9de"
      },
      "source": [
        "x=10\n",
        "y=20\n",
        "res=(x==y)\n",
        "print(res)"
      ],
      "execution_count": null,
      "outputs": [
        {
          "output_type": "stream",
          "text": [
            "False\n"
          ],
          "name": "stdout"
        }
      ]
    },
    {
      "cell_type": "code",
      "metadata": {
        "id": "XXpW4PFvkg8P",
        "outputId": "ba23d228-84ff-485c-80f7-9b94c87f518c"
      },
      "source": [
        "x=10\n",
        "y=11\n",
        "res=(x<y)\n",
        "print(res)\n",
        "res=(x==y)\n",
        "print(res)\n",
        "res=(x!=y)\n",
        "print(res)\n",
        "res=(x>y)\n",
        "print(res)\n",
        "res=(x<=y)\n",
        "print(res)\n",
        "res=(x>=y)\n",
        "print(res)"
      ],
      "execution_count": null,
      "outputs": [
        {
          "output_type": "stream",
          "text": [
            "True\n",
            "False\n",
            "True\n",
            "False\n",
            "True\n",
            "False\n"
          ],
          "name": "stdout"
        }
      ]
    },
    {
      "cell_type": "code",
      "metadata": {
        "id": "hWA47-lukg8S"
      },
      "source": [
        "logical operators\n",
        "1.and\n",
        "2.or\n",
        "3.not"
      ],
      "execution_count": null,
      "outputs": []
    },
    {
      "cell_type": "code",
      "metadata": {
        "id": "ts1AlxVJkg8W",
        "outputId": "b138f144-9e0b-413e-fa18-6baa709809fd"
      },
      "source": [
        "x=3\n",
        "res=(x<15)\n",
        "print(res)\n",
        "res=(x<10)\n",
        "print(res)\n"
      ],
      "execution_count": null,
      "outputs": [
        {
          "output_type": "stream",
          "text": [
            "True\n",
            "True\n"
          ],
          "name": "stdout"
        }
      ]
    },
    {
      "cell_type": "code",
      "metadata": {
        "id": "9P-q946Kkg8c",
        "outputId": "5e451b98-8d27-48c5-bc82-54e6a953b2f2"
      },
      "source": [
        "x=3\n",
        "res=(x<15) and (x<10)\n",
        "print(res)"
      ],
      "execution_count": null,
      "outputs": [
        {
          "output_type": "stream",
          "text": [
            "True\n"
          ],
          "name": "stdout"
        }
      ]
    },
    {
      "cell_type": "code",
      "metadata": {
        "id": "MlIv3VZykg8f",
        "outputId": "e002a819-7e12-40df-aa45-34a913b05377"
      },
      "source": [
        "x=3\n",
        "res=(x<15) and (x<10)\n",
        "print(res)"
      ],
      "execution_count": null,
      "outputs": [
        {
          "output_type": "stream",
          "text": [
            "True\n"
          ],
          "name": "stdout"
        }
      ]
    },
    {
      "cell_type": "code",
      "metadata": {
        "id": "b_oAI6jjkg8j",
        "outputId": "cf9fbd4d-db0f-43ea-96e4-8f61a5a623e5"
      },
      "source": [
        "x=12\n",
        "re=(x>9) or(x>16)\n",
        "print(re)"
      ],
      "execution_count": null,
      "outputs": [
        {
          "output_type": "stream",
          "text": [
            "True\n"
          ],
          "name": "stdout"
        }
      ]
    },
    {
      "cell_type": "code",
      "metadata": {
        "id": "3p9FtKoekg8n",
        "outputId": "8e63476e-33c2-437d-f161-8077b293b3cf"
      },
      "source": [
        "x= True\n",
        "res=not(x)\n",
        "print(res)"
      ],
      "execution_count": null,
      "outputs": [
        {
          "output_type": "stream",
          "text": [
            "False\n"
          ],
          "name": "stdout"
        }
      ]
    },
    {
      "cell_type": "code",
      "metadata": {
        "id": "dKK97JFNkg8q"
      },
      "source": [
        ""
      ],
      "execution_count": null,
      "outputs": []
    }
  ]
}
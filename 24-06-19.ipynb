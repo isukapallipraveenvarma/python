{
 "cells": [
  {
   "cell_type": "code",
   "execution_count": 33,
   "metadata": {},
   "outputs": [
    {
     "name": "stdout",
     "output_type": "stream",
     "text": [
      "p v\n"
     ]
    }
   ],
   "source": [
    "def fun(x='p',y='v'):\n",
    "    print(x,y);\n",
    "fun(x='p',y='v')    "
   ]
  },
  {
   "cell_type": "code",
   "execution_count": 38,
   "metadata": {},
   "outputs": [
    {
     "name": "stdout",
     "output_type": "stream",
     "text": [
      "0\n",
      "2\n",
      "4\n",
      "6\n"
     ]
    }
   ],
   "source": [
    "# evennumbers\n",
    "def even(n):\n",
    "    cnt=0;\n",
    "    while(cnt!=n):\n",
    "        if(cnt%2==0):\n",
    "            print(cnt) \n",
    "        cnt=cnt+1;\n",
    "    return sum;    \n",
    "even(8);"
   ]
  },
  {
   "cell_type": "code",
   "execution_count": 23,
   "metadata": {},
   "outputs": [
    {
     "name": "stdout",
     "output_type": "stream",
     "text": [
      "1 2 3 4 6 "
     ]
    }
   ],
   "source": [
    "#def factoriallist\n",
    "def factorslist(n):\n",
    "    i=1;\n",
    "    while(i!=n):\n",
    "        if(n%i==0):\n",
    "            print(i,end=\" \");\n",
    "        i=i+1;\n",
    "    return ;\n",
    "factorslist(12);"
   ]
  },
  {
   "cell_type": "code",
   "execution_count": 52,
   "metadata": {},
   "outputs": [
    {
     "name": "stdout",
     "output_type": "stream",
     "text": [
      "[42, 24, 6, 3, 9] 3\n"
     ]
    }
   ],
   "source": [
    "#listprint\n",
    "list1=[42,24,6,3,9];\n",
    "print(list1,end=\" \");\n",
    "print(list1[3])"
   ]
  },
  {
   "cell_type": "code",
   "execution_count": 53,
   "metadata": {},
   "outputs": [
    {
     "name": "stdout",
     "output_type": "stream",
     "text": [
      "i\n",
      "v\n",
      "s\n",
      "p\n",
      "v\n"
     ]
    }
   ],
   "source": [
    "#listprint\n",
    "list1=['i','v','s','p','v'];\n",
    "for v in list1:\n",
    "    print(v)"
   ]
  },
  {
   "cell_type": "code",
   "execution_count": 62,
   "metadata": {},
   "outputs": [
    {
     "name": "stdout",
     "output_type": "stream",
     "text": [
      "i\n",
      "v\n",
      "s\n",
      "p\n",
      "v\n",
      "\n",
      "s\n",
      "['v', 's', 'p']\n"
     ]
    },
    {
     "data": {
      "text/plain": [
       "['i', 'v']"
      ]
     },
     "execution_count": 62,
     "metadata": {},
     "output_type": "execute_result"
    }
   ],
   "source": [
    "#listprint\n",
    "list1=['i','v','s','p','v'];\n",
    "for v in list1:\n",
    "    print(v);\n",
    "print();\n",
    "print(list1[2]);\n",
    "print(list1[1:4]);\n",
    "list1[:2]"
   ]
  },
  {
   "cell_type": "code",
   "execution_count": 73,
   "metadata": {},
   "outputs": [
    {
     "name": "stdout",
     "output_type": "stream",
     "text": [
      "i\n",
      "va\n",
      "s\n",
      "p\n",
      "v\n",
      "['va', 's', 'p']\n",
      "['s', 'p']\n",
      "['v', 'p', 's', 'va', 'i']\n",
      "['v', 's', 'i']\n",
      "['va', 's', 'p', 'v']\n"
     ]
    }
   ],
   "source": [
    "#listprint\n",
    "list1=['i','va','s','p','v'];\n",
    "for v in list1:\n",
    "    print(v);\n",
    "print(list1[1:-1])\n",
    "print(list1[2:-1])\n",
    "print(list1[::-1])\n",
    "print(list1[::2])\n",
    "print(list1[1::])\n",
    "\n",
    "    "
   ]
  },
  {
   "cell_type": "code",
   "execution_count": 75,
   "metadata": {},
   "outputs": [
    {
     "name": "stdout",
     "output_type": "stream",
     "text": [
      "['praveen', 'akshay', 'sandeep']\n",
      "['praveen', 'akshay', 'gitam']\n",
      "['praveen', 'akshay', 'gitam', 1, 2, 3]\n"
     ]
    }
   ],
   "source": [
    "list1=[\"praveen\",\"akshay\",\"sandeep\"];\n",
    "print(list1);\n",
    "list1[2]=\"gitam\";\n",
    "print(list1)\n",
    "list2=[1,2,3]\n",
    "print(list1+list2)"
   ]
  },
  {
   "cell_type": "code",
   "execution_count": 102,
   "metadata": {},
   "outputs": [
    {
     "name": "stdout",
     "output_type": "stream",
     "text": [
      "6\n",
      "[0, 9, 8, 7, 6, 5, 1]\n",
      "1\n"
     ]
    }
   ],
   "source": [
    "#append,count of same digit\n",
    "list1=[0,9,8,7,6,5];\n",
    "print(len(list1));\n",
    "list1.append(1)\n",
    "print(list1)\n",
    "print(list1.count(8))"
   ]
  },
  {
   "cell_type": "code",
   "execution_count": 105,
   "metadata": {},
   "outputs": [
    {
     "name": "stdout",
     "output_type": "stream",
     "text": [
      "['praveen', 'akshay', 'sandeep']\n",
      "1\n",
      "3\n",
      "['praveen', 'akshay', 2019, 'sandeep']\n",
      "['akshay', 2019, 'sandeep']\n",
      "['sandeep', 2019, 'akshay']\n"
     ]
    }
   ],
   "source": [
    "#index,insert,remove,reverse\n",
    "list1=[\"praveen\",\"akshay\",\"sandeep\"];\n",
    "print(list1)\n",
    "print(list1.index(\"akshay\"))\n",
    "print(len(list1))\n",
    "list1.insert(2,2019)\n",
    "print(list1)\n",
    "list1.remove(\"praveen\")\n",
    "print(list1)\n",
    "list1.reverse()\n",
    "print(list1)"
   ]
  },
  {
   "cell_type": "code",
   "execution_count": 123,
   "metadata": {},
   "outputs": [
    {
     "name": "stdout",
     "output_type": "stream",
     "text": [
      "element found\n"
     ]
    }
   ],
   "source": [
    "#data structure\n",
    "def linearsch(a,n):\n",
    "    flag=0;\n",
    "    for i in range(len(a)):\n",
    "        if(a[i]==n):\n",
    "            flag=1;\n",
    "            break;\n",
    "    if(flag!=0):\n",
    "        print(\"element found\" )\n",
    "    else:\n",
    "         print(\"element not found\")\n",
    "a=[1,2,12,24,5]\n",
    "linearsch(a,2);    \n",
    "    "
   ]
  },
  {
   "cell_type": "code",
   "execution_count": 138,
   "metadata": {},
   "outputs": [
    {
     "name": "stdout",
     "output_type": "stream",
     "text": [
      "2\n"
     ]
    }
   ],
   "source": [
    "#linearlist digit count\n",
    "def linearsch(a,n):\n",
    "    flag=0;\n",
    "    for i in range(len(a)):\n",
    "        if(a[i]==n):\n",
    "            flag=flag+1;\n",
    "            \n",
    "    print(flag);\n",
    "    \n",
    "a=[1,12,12,24,5]\n",
    "linearsch(a,12);    \n",
    "    "
   ]
  },
  {
   "cell_type": "code",
   "execution_count": 135,
   "metadata": {},
   "outputs": [
    {
     "name": "stdout",
     "output_type": "stream",
     "text": [
      "[1, 3, 9]\n"
     ]
    }
   ],
   "source": [
    "a=[1,2,3,8,9,0];\n",
    "print(a[::2])"
   ]
  },
  {
   "cell_type": "code",
   "execution_count": 149,
   "metadata": {},
   "outputs": [
    {
     "name": "stdout",
     "output_type": "stream",
     "text": [
      "!  ! ! ! !  ! ! ! ! ! ! !  "
     ]
    }
   ],
   "source": [
    "#\n",
    "def linearsch(a,n):\n",
    "    \n",
    "    for i in range(len(a)):\n",
    "        if(a[i]==n):\n",
    "            j=0;\n",
    "            while(j!=i):\n",
    "                print(\"!\",end=\" \")\n",
    "                j=j+1;\n",
    "            print(end=\" \")\n",
    "a=[1,5,9,6,5,15,12,5]\n",
    "linearsch(a,5);    \n",
    "    "
   ]
  },
  {
   "cell_type": "code",
   "execution_count": 162,
   "metadata": {},
   "outputs": [
    {
     "name": "stdout",
     "output_type": "stream",
     "text": [
      "60\n"
     ]
    }
   ],
   "source": [
    "#linearlist mult 3&5\n",
    "def linearsch(a,n):\n",
    "    sum=0;\n",
    "    for i in range(len(a)):\n",
    "        \n",
    "        if(a[i]%3==0 and a[i]%5==0):\n",
    "            sum=sum+a[i];\n",
    "    return sum;\n",
    "a=[15,12,2,9,18,36,45]\n",
    "print(linearsch(a,5));    \n",
    "    "
   ]
  },
  {
   "cell_type": "code",
   "execution_count": 167,
   "metadata": {},
   "outputs": [
    {
     "name": "stdout",
     "output_type": "stream",
     "text": [
      "1 9 30 45 90 60 75 5 "
     ]
    }
   ],
   "source": [
    "\n",
    "#\n",
    "def linearsch(a,n):\n",
    "    sum=0;\n",
    "    for i in range(len(a)):\n",
    "        if(i==0 or i==len(a)-1):\n",
    "            print(a[i],end=\" \")\n",
    "        else:\n",
    "            print(a[i-1]*a[i+1],end=\" \")\n",
    "a=[1,5,9,6,5,15,12,5]\n",
    "linearsch(a,5);    \n",
    "    "
   ]
  },
  {
   "cell_type": "code",
   "execution_count": 171,
   "metadata": {},
   "outputs": [
    {
     "name": "stdout",
     "output_type": "stream",
     "text": [
      "1\n",
      "5\n",
      "None\n"
     ]
    }
   ],
   "source": [
    "\n",
    "#\n",
    "def linearsch(a,n):\n",
    "    sum=0;\n",
    "    for i in range(len(a)):\n",
    "        if(i==0 or i==len(a)-1):\n",
    "            print(a[i])\n",
    "        elif(a[i-1]%2==0 and a[i+1]%2==0):\n",
    "            print(a[i])\n",
    "a=[1,5,9,6,5,15,12,5]\n",
    "print(linearsch(a,5));    \n",
    "    "
   ]
  },
  {
   "cell_type": "code",
   "execution_count": null,
   "metadata": {},
   "outputs": [],
   "source": []
  },
  {
   "cell_type": "code",
   "execution_count": null,
   "metadata": {},
   "outputs": [],
   "source": []
  }
 ],
 "metadata": {
  "kernelspec": {
   "display_name": "Python 3",
   "language": "python",
   "name": "python3"
  },
  "language_info": {
   "codemirror_mode": {
    "name": "ipython",
    "version": 3
   },
   "file_extension": ".py",
   "mimetype": "text/x-python",
   "name": "python",
   "nbconvert_exporter": "python",
   "pygments_lexer": "ipython3",
   "version": "3.7.3"
  }
 },
 "nbformat": 4,
 "nbformat_minor": 2
}

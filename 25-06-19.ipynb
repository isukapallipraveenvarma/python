{
 "cells": [
  {
   "cell_type": "code",
   "execution_count": 8,
   "metadata": {},
   "outputs": [
    {
     "name": "stdout",
     "output_type": "stream",
     "text": [
      "item is found\n"
     ]
    }
   ],
   "source": [
    "#searching an element using binary search\n",
    "def binary(a,lindex,rindex,n):\n",
    "    while(lindex<=rindex):\n",
    "        mindex=lindex+(rindex-lindex)/2;\n",
    "        mindex=int(mindex)\n",
    "        if a[mindex]==n:\n",
    "            return mindex;\n",
    "        if a[mindex]>n:\n",
    "            rindex=mindex-1;\n",
    "        else:\n",
    "            lindex=mindex+1;\n",
    "    return -1;\n",
    "list1=[1,4,9,15,25,45,57,88,98]\n",
    "res=binary(list1,0,8,4)\n",
    "if res!=-1:\n",
    "    print(\"item is found\");\n",
    "else:\n",
    "    print(\"item is not found\")\n",
    "        "
   ]
  },
  {
   "cell_type": "code",
   "execution_count": 10,
   "metadata": {},
   "outputs": [
    {
     "name": "stdout",
     "output_type": "stream",
     "text": [
      "1 2 3 4 5 6 8 76 88 [1, 2, 3, 4, 5, 6, 8, 76, 88, 90]\n"
     ]
    }
   ],
   "source": [
    "#bubble sort\n",
    "def bubblesort(a):\n",
    "    for  i in range(len(a)-1):\n",
    "        for j in range(len(a)-1):\n",
    "            if a[j]>a[j+1]:\n",
    "                a[j],a[j+1]=a[j+1],a[j];\n",
    "    for i in range(len(a)-1):\n",
    "        print(a[i],end=\" \")\n",
    "a=[1,4,5,6,3,2,8,90,88,76];\n",
    "bubblesort(a);\n",
    "a.sort();\n",
    "print(a);"
   ]
  },
  {
   "cell_type": "code",
   "execution_count": 23,
   "metadata": {},
   "outputs": [
    {
     "name": "stdout",
     "output_type": "stream",
     "text": [
      "application\n",
      "form\n",
      "applicationform\n",
      "str[0]= a\n",
      "a\n",
      "str[5:2]= \n",
      "str[5::-2]= clp\n",
      "str[5:-2]= cati\n",
      "str[5::2]= cto\n",
      "str[5:-1]= catio\n",
      "str[:2]= ap\n"
     ]
    }
   ],
   "source": [
    "#creating a string\n",
    "str=\"application\"\n",
    "print(str);\n",
    "str1=\"form\"\n",
    "print(str1);\n",
    "print(str+str1);\n",
    "print(\"str[0]=\",str[0])\n",
    "print(str[0])\n",
    "print(\"str[5:2]=\",str[5:2])\n",
    "print(\"str[5::-2]=\",str[5::-2])\n",
    "print(\"str[5:-2]=\",str[5:-2])\n",
    "print(\"str[5::2]=\",str[5::2])\n",
    "print(\"str[5:-1]=\",str[5:-1])\n",
    "print(\"str[:2]=\",str[:2])\n"
   ]
  },
  {
   "cell_type": "code",
   "execution_count": 32,
   "metadata": {},
   "outputs": [
    {
     "name": "stdout",
     "output_type": "stream",
     "text": [
      "false\n",
      "false\n"
     ]
    }
   ],
   "source": [
    "def ispalindrome(s):\n",
    "    if(s==s[::-1]):\n",
    "        return \"true\";\n",
    "    else:\n",
    "        return \"false\";\n",
    "print(ispalindrome(\"python\"));\n",
    "print(ispalindrome(\"jala\"));"
   ]
  },
  {
   "cell_type": "code",
   "execution_count": 33,
   "metadata": {},
   "outputs": [
    {
     "name": "stdout",
     "output_type": "stream",
     "text": [
      "11\n"
     ]
    }
   ],
   "source": [
    "def count(str):\n",
    "    return len(str);\n",
    "print(count(\"application\"));"
   ]
  },
  {
   "cell_type": "code",
   "execution_count": 25,
   "metadata": {},
   "outputs": [
    {
     "data": {
      "text/plain": [
       "5"
      ]
     },
     "execution_count": 25,
     "metadata": {},
     "output_type": "execute_result"
    }
   ],
   "source": [
    "def count(n):\n",
    "    return len(n);\n",
    "count(\"23456\")"
   ]
  },
  {
   "cell_type": "code",
   "execution_count": 26,
   "metadata": {},
   "outputs": [
    {
     "name": "stdout",
     "output_type": "stream",
     "text": [
      "JOKER\n"
     ]
    },
    {
     "data": {
      "text/plain": [
       "'JOKER'"
      ]
     },
     "execution_count": 26,
     "metadata": {},
     "output_type": "execute_result"
    }
   ],
   "source": [
    "def upper(n):\n",
    "    print(n.upper())\n",
    "    return n.upper();\n",
    "\n",
    "upper(\"joker\")"
   ]
  },
  {
   "cell_type": "code",
   "execution_count": 27,
   "metadata": {},
   "outputs": [
    {
     "data": {
      "text/plain": [
       "False"
      ]
     },
     "execution_count": 27,
     "metadata": {},
     "output_type": "execute_result"
    }
   ],
   "source": [
    "def upper(n):\n",
    "    return n.isupper();\n",
    "upper(\"joker\")"
   ]
  },
  {
   "cell_type": "code",
   "execution_count": 28,
   "metadata": {},
   "outputs": [
    {
     "name": "stdout",
     "output_type": "stream",
     "text": [
      "['k', 'h', 'a', 'n']\n"
     ]
    }
   ],
   "source": [
    "def countuppercase(a):\n",
    "    list=[];\n",
    "    for i in range(len(a)):\n",
    "    \n",
    "        list.append(a[i]);\n",
    "    print(list);\n",
    "s=\"khan\";\n",
    "countuppercase(s);"
   ]
  },
  {
   "cell_type": "code",
   "execution_count": 29,
   "metadata": {},
   "outputs": [
    {
     "name": "stdout",
     "output_type": "stream",
     "text": [
      "1\n"
     ]
    }
   ],
   "source": [
    "\n",
    "def count(s):\n",
    "    l1=list(s);\n",
    "    return len(l1);\n",
    "\n",
    "print(count(\"s\"));"
   ]
  },
  {
   "cell_type": "code",
   "execution_count": 37,
   "metadata": {},
   "outputs": [
    {
     "name": "stdout",
     "output_type": "stream",
     "text": [
      "1\n"
     ]
    }
   ],
   "source": [
    "\n",
    "def countuppercase(str):\n",
    "    cnt=0;\n",
    "    lst=list(str)\n",
    "    for x in range(len(lst)):\n",
    "        if (lst[x])>='A' and (lst[x]<='Z'):\n",
    "            \n",
    "            \n",
    "            cnt=cnt+1;\n",
    "    return cnt;\n",
    "print(countuppercase(\"Application\"))"
   ]
  },
  {
   "cell_type": "code",
   "execution_count": 38,
   "metadata": {},
   "outputs": [
    {
     "name": "stdout",
     "output_type": "stream",
     "text": [
      "5\n"
     ]
    }
   ],
   "source": [
    "def countdigit(str):\n",
    "    cnt=0;\n",
    "    lst=list(str)\n",
    "    for x in range(len(lst)-1):\n",
    "        o=0;\n",
    "        j=0;\n",
    "        if (lst[x])>='A' and (lst[x]<='Z'):\n",
    "            o+=1;\n",
    "        if (lst[x])>='a' and (lst[x]<='z'):\n",
    "            j+=1;\n",
    "        else:\n",
    "            \n",
    "            \n",
    "            \n",
    "            cnt=cnt+1;\n",
    "    return cnt;\n",
    "print(countdigit(\"Application18898\"));\n"
   ]
  },
  {
   "cell_type": "code",
   "execution_count": 39,
   "metadata": {},
   "outputs": [
    {
     "name": "stdout",
     "output_type": "stream",
     "text": [
      "25\n"
     ]
    }
   ],
   "source": [
    "def countdigit(str):\n",
    "    cnt=0;\n",
    "    lst=list(str)\n",
    "    sum=0;\n",
    "    for x in range(len(lst)):\n",
    "        o=0;\n",
    "        j=0;\n",
    "        \n",
    "        if (lst[x])>='A' and (lst[x]<='Z'):\n",
    "            o+=1;\n",
    "        elif (lst[x])>='a' and (lst[x]<='z'):\n",
    "            j+=1;\n",
    "        else:\n",
    "            \n",
    "            sum=sum+(ord(lst[x])-48);\n",
    "            \n",
    "    return sum;\n",
    "print(countdigit(\"Application1888\"));"
   ]
  },
  {
   "cell_type": "code",
   "execution_count": null,
   "metadata": {},
   "outputs": [],
   "source": []
  },
  {
   "cell_type": "code",
   "execution_count": null,
   "metadata": {},
   "outputs": [],
   "source": []
  }
 ],
 "metadata": {
  "kernelspec": {
   "display_name": "Python 3",
   "language": "python",
   "name": "python3"
  },
  "language_info": {
   "codemirror_mode": {
    "name": "ipython",
    "version": 3
   },
   "file_extension": ".py",
   "mimetype": "text/x-python",
   "name": "python",
   "nbconvert_exporter": "python",
   "pygments_lexer": "ipython3",
   "version": "3.7.3"
  }
 },
 "nbformat": 4,
 "nbformat_minor": 2
}

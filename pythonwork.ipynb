{
  "nbformat": 4,
  "nbformat_minor": 0,
  "metadata": {
    "colab": {
      "name": "pythonwork.ipynb",
      "provenance": [],
      "collapsed_sections": [],
      "authorship_tag": "ABX9TyNdfuYSDagaOiML3DdmWeTh",
      "include_colab_link": true
    },
    "kernelspec": {
      "name": "python3",
      "display_name": "Python 3"
    }
  },
  "cells": [
    {
      "cell_type": "markdown",
      "metadata": {
        "id": "view-in-github",
        "colab_type": "text"
      },
      "source": [
        "<a href=\"https://colab.research.google.com/github/isukapallipraveenvarma/python/blob/master/pythonwork.ipynb\" target=\"_parent\"><img src=\"https://colab.research.google.com/assets/colab-badge.svg\" alt=\"Open In Colab\"/></a>"
      ]
    },
    {
      "cell_type": "code",
      "metadata": {
        "id": "H25px0EHxbXF",
        "outputId": "6b871a22-d8ab-46c8-8b92-58a39944ec40",
        "colab": {
          "base_uri": "https://localhost:8080/",
          "height": 34
        }
      },
      "source": [
        "s2=\"abc\"\n",
        "s2=s2.replace('b','z')\n",
        "print(s2)"
      ],
      "execution_count": null,
      "outputs": [
        {
          "output_type": "stream",
          "text": [
            "azc\n"
          ],
          "name": "stdout"
        }
      ]
    },
    {
      "cell_type": "code",
      "metadata": {
        "id": "DvCD8Xi0qvF4"
      },
      "source": [
        ""
      ],
      "execution_count": null,
      "outputs": []
    },
    {
      "cell_type": "code",
      "metadata": {
        "id": "PZ38eNinyMbk",
        "cellView": "both",
        "outputId": "1744ab87-4951-4a9f-e27f-53046737adfb",
        "colab": {
          "base_uri": "https://localhost:8080/",
          "height": 129
        }
      },
      "source": [
        "\n",
        "##accept a string from the user and count\n",
        "1.no.of alphabets\n",
        "2.no.of digits\n",
        "3.no.of lower case characters\n",
        "4.no.of upper case characters\n",
        "5.no.of vowel in the string#"
      ],
      "execution_count": null,
      "outputs": [
        {
          "output_type": "error",
          "ename": "SyntaxError",
          "evalue": "ignored",
          "traceback": [
            "\u001b[0;36m  File \u001b[0;32m\"<ipython-input-2-b3f24cf8b948>\"\u001b[0;36m, line \u001b[0;32m1\u001b[0m\n\u001b[0;31m    1.no.of alphabets\u001b[0m\n\u001b[0m       ^\u001b[0m\n\u001b[0;31mSyntaxError\u001b[0m\u001b[0;31m:\u001b[0m invalid syntax\n"
          ]
        }
      ]
    },
    {
      "cell_type": "code",
      "metadata": {
        "id": "GKPBujC3yNL7",
        "outputId": "9b3ab37d-0003-48b9-8ecb-3cff0e463e1e",
        "colab": {
          "base_uri": "https://localhost:8080/",
          "height": 102
        }
      },
      "source": [
        "a=input(\"enter a string\");\n",
        "alphabets=0\n",
        "digits=0\n",
        "lower=0\n",
        "upper=0\n",
        "for i in a:\n",
        "  if i.isalpha():\n",
        "    alphabets+=1\n",
        "  if i.isdigit():\n",
        "     digit+=1 \n",
        "  if i.islower():\n",
        "    lower+=1\n",
        "  if i.isaupper():\n",
        "    upper+=1 \n",
        "print(alp)"
      ],
      "execution_count": null,
      "outputs": [
        {
          "output_type": "stream",
          "text": [
            "enter a stringpv24\n",
            "1\n",
            "2\n",
            "2\n",
            "2\n"
          ],
          "name": "stdout"
        }
      ]
    },
    {
      "cell_type": "code",
      "metadata": {
        "id": "pEuMCCbyqw4O",
        "outputId": "721830c1-f2fa-4997-c022-77566f629239",
        "colab": {
          "base_uri": "https://localhost:8080/",
          "height": 72
        }
      },
      "source": [
        "a={1,2,3,4,5}\n",
        "b={4,5,6,7,8}\n",
        "print(a.union(b))\n",
        "print(a.intersection(b))\n",
        "print(a.difference(b))\n"
      ],
      "execution_count": null,
      "outputs": [
        {
          "output_type": "stream",
          "text": [
            "{1, 2, 3, 4, 5, 6, 7, 8}\n",
            "{4, 5}\n",
            "{1, 2, 3}\n"
          ],
          "name": "stdout"
        }
      ]
    },
    {
      "cell_type": "code",
      "metadata": {
        "id": "e3zLpZnpvARh",
        "outputId": "ed2de196-ffe7-4347-8069-2a30eaa2dcdb",
        "colab": {
          "base_uri": "https://localhost:8080/",
          "height": 126
        }
      },
      "source": [
        "a={\"name\":\"praveen\",\"college\":\"gitam\"}\n",
        "print(a[\"college\"])\n",
        "a[\"course\"]=\"PYTHON\"\n",
        "print(a)\n",
        "a[\"course\"]=\"java\"\n",
        "print(a)\n",
        "print(a.keys())\n",
        "print(a.values())\n",
        "print(a.items())\n"
      ],
      "execution_count": null,
      "outputs": [
        {
          "output_type": "stream",
          "text": [
            "gitam\n",
            "{'name': 'praveen', 'college': 'gitam', 'course': 'PYTHON'}\n",
            "{'name': 'praveen', 'college': 'gitam', 'course': 'java'}\n",
            "dict_keys(['name', 'college', 'course'])\n",
            "dict_values(['praveen', 'gitam', 'java'])\n",
            "dict_items([('name', 'praveen'), ('college', 'gitam'), ('course', 'java')])\n"
          ],
          "name": "stdout"
        }
      ]
    },
    {
      "cell_type": "code",
      "metadata": {
        "id": "RHbNce2hyvjx",
        "outputId": "54065417-d4e6-4ef8-8453-bf209adc0fe3",
        "colab": {
          "base_uri": "https://localhost:8080/",
          "height": 163
        }
      },
      "source": [
        "n=int(input(\"enter the range\"))\n",
        "a=[]\n",
        "for i in range(n):\n",
        "\n",
        "  d={}\n",
        "  d[\"name\"]=input(\"student name\")\n",
        "  d[\"roll\"]=input(\"enter rollno\")\n",
        "  d[\"section\"]=input(\"enter section\")\n",
        "  a.append(d)\n",
        "print(a)"
      ],
      "execution_count": null,
      "outputs": [
        {
          "output_type": "stream",
          "text": [
            "enter the range2\n",
            "student namepv\n",
            "enter rollno24\n",
            "enter section23\n",
            "student nameipv\n",
            "enter rollno24\n",
            "enter section23 4\n",
            "[{'name': 'ipv', 'roll': '24', 'section': '23 4'}]\n"
          ],
          "name": "stdout"
        }
      ]
    },
    {
      "cell_type": "markdown",
      "metadata": {
        "id": "eIPix7us4Gqj"
      },
      "source": [
        "def add(x,y):\n",
        "  return x+y\n",
        "def add1(x,y):\n",
        "  return x+y\n",
        "print(add(10,20))\n",
        "print(add1(20,30))"
      ]
    },
    {
      "cell_type": "code",
      "metadata": {
        "id": "oTT8m55n409v"
      },
      "source": [
        "def reverseDigits(num) : \n",
        "    rev = 0\n",
        "    while (num > 0) : \n",
        "        rev = rev * 10 + num % 10\n",
        "        num /= 10\n",
        "    return rev \n",
        "def square(num) : \n",
        "    return (num * num)  \n",
        "def checkAdamNumber(num) :   \n",
        "    a = square(num) \n",
        "    b = square(reverseDigits(num)) \n",
        "    if (a == reverseDigits(b)) : \n",
        "        return True\n",
        "    else : \n",
        "        return False\n",
        "num = 13\n",
        "if (checkAdamNumber(num)) : \n",
        "    print (\"Adam Number\")\n",
        "else : \n",
        "    print (\"Not a Adam Number\")\n",
        "  "
      ],
      "execution_count": null,
      "outputs": []
    }
  ]
}
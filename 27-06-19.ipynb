{
 "cells": [
  {
   "cell_type": "code",
   "execution_count": 1,
   "metadata": {},
   "outputs": [],
   "source": [
    "#function to create a file "
   ]
  },
  {
   "cell_type": "code",
   "execution_count": 2,
   "metadata": {},
   "outputs": [
    {
     "name": "stdout",
     "output_type": "stream",
     "text": [
      "file is created successfully and data is written\n"
     ]
    }
   ],
   "source": [
    "def createfile(filename):\n",
    "  f=open(filename,\"w\");\n",
    "  for i in range(10):\n",
    "    f.write(\"this is %d time i loved her\"%i);\n",
    "  print(\"file is created successfully and data is written\");\n",
    "  f.close();\n",
    "  return;\n",
    "createfile(\"file1.txt\")"
   ]
  },
  {
   "cell_type": "code",
   "execution_count": 3,
   "metadata": {},
   "outputs": [
    {
     "name": "stdout",
     "output_type": "stream",
     "text": [
      "this is 0 time i loved herthis is 1 time i loved herthis is 2 time i loved herthis is 3 time i loved herthis is 4 time i loved herthis is 5 time i loved herthis is 6 time i loved herthis is 7 time i loved herthis is 8 time i loved herthis is 9 time i loved her\n"
     ]
    }
   ],
   "source": [
    "def readfile(filename):\n",
    "  f=open(filename,\"r\");\n",
    "  if f.mode==\"r\":\n",
    "    x=f.read();\n",
    "    print(x);\n",
    "  f.close();\n",
    "  return;\n",
    "readfile(\"file1.txt\")"
   ]
  },
  {
   "cell_type": "code",
   "execution_count": 4,
   "metadata": {},
   "outputs": [
    {
     "name": "stdout",
     "output_type": "stream",
     "text": [
      "this is 0 time i loved herthis is 1 time i loved herthis is 2 time i loved herthis is 3 time i loved herthis is 4 time i loved herthis is 5 time i loved herthis is 6 time i loved herthis is 7 time i loved herthis is 8 time i loved herthis is 9 time i loved her\n"
     ]
    }
   ],
   "source": [
    "def readfile(filename):\n",
    "  f=open(filename,\"r\");\n",
    "  if f.mode==\"r\":\n",
    "    x=f.read();\n",
    "    print(x);\n",
    "  f.close();\n",
    "  return;\n",
    "readfile(\"file1.txt\")"
   ]
  },
  {
   "cell_type": "code",
   "execution_count": 5,
   "metadata": {},
   "outputs": [
    {
     "name": "stdout",
     "output_type": "stream",
     "text": [
      " Volume in drive C has no label.\n",
      " Volume Serial Number is 3820-EB8B\n",
      "\n",
      " Directory of C:\\Users\\comp03\\python\n",
      "\n",
      "06/21/2019  06:37 AM    <DIR>          .\n",
      "06/21/2019  06:37 AM    <DIR>          ..\n",
      "06/21/2019  06:16 AM    <DIR>          .ipynb_checkpoints\n",
      "06/20/2019  01:03 PM             9,761 22-06-19.ipynb\n",
      "06/20/2019  09:27 PM             9,470 24-06-19.ipynb\n",
      "06/21/2019  03:18 AM             7,967 25-06-19.ipynb\n",
      "06/21/2019  06:30 AM            21,690 26-06-19.ipynb\n",
      "06/21/2019  06:37 AM             2,658 27-06-19.ipynb\n",
      "06/21/2019  06:34 AM               260 file1.txt\n",
      "               6 File(s)         51,806 bytes\n",
      "               3 Dir(s)  479,274,590,208 bytes free\n"
     ]
    }
   ],
   "source": [
    "ls\n"
   ]
  },
  {
   "cell_type": "code",
   "execution_count": 6,
   "metadata": {},
   "outputs": [
    {
     "ename": "SyntaxError",
     "evalue": "invalid syntax (<ipython-input-6-0bccb725251b>, line 1)",
     "output_type": "error",
     "traceback": [
      "\u001b[1;36m  File \u001b[1;32m\"<ipython-input-6-0bccb725251b>\"\u001b[1;36m, line \u001b[1;32m1\u001b[0m\n\u001b[1;33m    cat file1.txt\u001b[0m\n\u001b[1;37m            ^\u001b[0m\n\u001b[1;31mSyntaxError\u001b[0m\u001b[1;31m:\u001b[0m invalid syntax\n"
     ]
    }
   ],
   "source": [
    "cat file1.txt\n"
   ]
  },
  {
   "cell_type": "code",
   "execution_count": 7,
   "metadata": {},
   "outputs": [
    {
     "name": "stdout",
     "output_type": "stream",
     "text": [
      "0\n"
     ]
    }
   ],
   "source": [
    "def dataanalysiswordcount(filename,word):\n",
    "  f=open(filename,\"r\");\n",
    "  if f.mode==\"r\":\n",
    "    x=f.read();\n",
    "    lst=x.split();\n",
    "  cnt=lst.count(word);\n",
    "  return cnt;\n",
    "print(dataanalysiswordcount(\"file1.txt\",\"rest\"))"
   ]
  },
  {
   "cell_type": "code",
   "execution_count": 8,
   "metadata": {},
   "outputs": [
    {
     "name": "stdout",
     "output_type": "stream",
     "text": [
      "61\n",
      "None\n"
     ]
    }
   ],
   "source": [
    "#count characters in a file\n",
    "def dataanalysischarcount(filename):\n",
    "  f=open(filename,\"r\");\n",
    "  if f.mode==\"r\":\n",
    "    x=f.read();\n",
    "    lst=x.split();\n",
    "  cnt=0;\n",
    "  print(len(lst))\n",
    "  \n",
    "  \n",
    "print(dataanalysischarcount(\"file1.txt\"))"
   ]
  },
  {
   "cell_type": "code",
   "execution_count": 9,
   "metadata": {},
   "outputs": [
    {
     "name": "stdout",
     "output_type": "stream",
     "text": [
      "61\n",
      "0\n"
     ]
    }
   ],
   "source": [
    "#count upper case character\n",
    "def dataanalysischarcount(filename):\n",
    "  f=open(filename,\"r\");\n",
    "  if f.mode==\"r\":\n",
    "    x=f.read();\n",
    "    lst=list(x);\n",
    "    lst=x.split();\n",
    "  o=0;\n",
    "  print(len(lst))\n",
    "  for x in range(len(lst)):\n",
    "        \n",
    "        \n",
    "        \n",
    "        if (lst[x])>='A' and (lst[x]<='Z'):\n",
    "            o+=1;\n",
    "        return o;\n",
    "  \n",
    "print(dataanalysischarcount(\"file1.txt\"))"
   ]
  },
  {
   "cell_type": "code",
   "execution_count": 10,
   "metadata": {},
   "outputs": [
    {
     "ename": "IndentationError",
     "evalue": "expected an indented block (<ipython-input-10-88f6e534d85a>, line 8)",
     "output_type": "error",
     "traceback": [
      "\u001b[1;36m  File \u001b[1;32m\"<ipython-input-10-88f6e534d85a>\"\u001b[1;36m, line \u001b[1;32m8\u001b[0m\n\u001b[1;33m    cntupper=0\u001b[0m\n\u001b[1;37m    ^\u001b[0m\n\u001b[1;31mIndentationError\u001b[0m\u001b[1;31m:\u001b[0m expected an indented block\n"
     ]
    }
   ],
   "source": [
    "def uppercasecount(filename):\n",
    "  cntupper=0\n",
    "  f=open(filename,\"r\");\n",
    "  if f.mode==\"r\":\n",
    "    x=f.read();\n",
    "    lst=list(x);\n",
    "    def uppercasecount(filename):\n",
    "  cntupper=0\n",
    "  f=open(filename,\"r\");\n",
    "  if f.mode==\"r\":\n",
    "    x=f.read();\n",
    "    lst=list(x);\n",
    "  for i in lst:\n",
    "    if i.isupper():\n",
    "      cntupper+=1\n",
    "  return cntupper\n",
    "uppercasecount(\"file1.txt\")\n",
    "  for i in lst:\n",
    "    if i.isupper():\n",
    "      cntupper+=1\n",
    "  return cntupper\n",
    "uppercasecount(\"file1.txt\")"
   ]
  },
  {
   "cell_type": "code",
   "execution_count": 11,
   "metadata": {},
   "outputs": [
    {
     "data": {
      "text/plain": [
       "0"
      ]
     },
     "execution_count": 11,
     "metadata": {},
     "output_type": "execute_result"
    }
   ],
   "source": [
    "#function to count lines in a file\n",
    "def uppercasecount(filename):\n",
    "  cntupper=0\n",
    "  f=open(filename,\"r\");\n",
    "  if f.mode==\"r\":\n",
    "    x=f.read();\n",
    "    \n",
    "    lst=x.split(\"\\n\");\n",
    "  return len(lst)-1 \n",
    "  \n",
    "  return cntupper\n",
    "uppercasecount(\"file1.txt\")\n",
    "\n"
   ]
  },
  {
   "cell_type": "code",
   "execution_count": 12,
   "metadata": {},
   "outputs": [
    {
     "ename": "SyntaxError",
     "evalue": "invalid syntax (<ipython-input-12-b55ac535779c>, line 1)",
     "output_type": "error",
     "traceback": [
      "\u001b[1;36m  File \u001b[1;32m\"<ipython-input-12-b55ac535779c>\"\u001b[1;36m, line \u001b[1;32m1\u001b[0m\n\u001b[1;33m    sudo nano file1.txt\u001b[0m\n\u001b[1;37m            ^\u001b[0m\n\u001b[1;31mSyntaxError\u001b[0m\u001b[1;31m:\u001b[0m invalid syntax\n"
     ]
    }
   ],
   "source": [
    "sudo nano file1.txt\n"
   ]
  },
  {
   "cell_type": "code",
   "execution_count": 13,
   "metadata": {},
   "outputs": [
    {
     "ename": "IndentationError",
     "evalue": "expected an indented block (<ipython-input-13-88f6e534d85a>, line 8)",
     "output_type": "error",
     "traceback": [
      "\u001b[1;36m  File \u001b[1;32m\"<ipython-input-13-88f6e534d85a>\"\u001b[1;36m, line \u001b[1;32m8\u001b[0m\n\u001b[1;33m    cntupper=0\u001b[0m\n\u001b[1;37m    ^\u001b[0m\n\u001b[1;31mIndentationError\u001b[0m\u001b[1;31m:\u001b[0m expected an indented block\n"
     ]
    }
   ],
   "source": [
    "def uppercasecount(filename):\n",
    "  cntupper=0\n",
    "  f=open(filename,\"r\");\n",
    "  if f.mode==\"r\":\n",
    "    x=f.read();\n",
    "    lst=list(x);\n",
    "    def uppercasecount(filename):\n",
    "  cntupper=0\n",
    "  f=open(filename,\"r\");\n",
    "  if f.mode==\"r\":\n",
    "    x=f.read();\n",
    "    lst=list(x);\n",
    "  for i in lst:\n",
    "    if i.isupper():\n",
    "      cntupper+=1\n",
    "  return cntupper\n",
    "uppercasecount(\"file1.txt\")\n",
    "  for i in lst:\n",
    "    if i.isupper():\n",
    "      cntupper+=1\n",
    "  return cntupper\n",
    "uppercasecount(\"file1.txt\")"
   ]
  },
  {
   "cell_type": "code",
   "execution_count": null,
   "metadata": {},
   "outputs": [],
   "source": []
  }
 ],
 "metadata": {
  "kernelspec": {
   "display_name": "Python 3",
   "language": "python",
   "name": "python3"
  },
  "language_info": {
   "codemirror_mode": {
    "name": "ipython",
    "version": 3
   },
   "file_extension": ".py",
   "mimetype": "text/x-python",
   "name": "python",
   "nbconvert_exporter": "python",
   "pygments_lexer": "ipython3",
   "version": "3.7.3"
  }
 },
 "nbformat": 4,
 "nbformat_minor": 2
}

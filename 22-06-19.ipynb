{
 "cells": [
  {
   "cell_type": "code",
   "execution_count": 1,
   "metadata": {},
   "outputs": [
    {
     "name": "stdout",
     "output_type": "stream",
     "text": [
      "hello\n"
     ]
    }
   ],
   "source": [
    "print(\"hello\")"
   ]
  },
  {
   "cell_type": "code",
   "execution_count": null,
   "metadata": {},
   "outputs": [],
   "source": [
    "# control flows"
   ]
  },
  {
   "cell_type": "code",
   "execution_count": null,
   "metadata": {},
   "outputs": [],
   "source": [
    "if condition"
   ]
  },
  {
   "cell_type": "code",
   "execution_count": 1,
   "metadata": {},
   "outputs": [
    {
     "name": "stdout",
     "output_type": "stream",
     "text": [
      "the number is less than 15\n"
     ]
    }
   ],
   "source": [
    "x=10\n",
    "if (x<15):\n",
    "    print(\"the number is less than 15\")"
   ]
  },
  {
   "cell_type": "code",
   "execution_count": 3,
   "metadata": {},
   "outputs": [],
   "source": [
    "x=10\n",
    "if(x>15):\n",
    "    print(\"hello\")\n",
    "    "
   ]
  },
  {
   "cell_type": "code",
   "execution_count": 6,
   "metadata": {},
   "outputs": [
    {
     "name": "stdout",
     "output_type": "stream",
     "text": [
      "pv\n"
     ]
    }
   ],
   "source": [
    "x=10\n",
    "if(x>15):\n",
    "    print(\"hello\")\n",
    "else:\n",
    "    print(\"pv\")"
   ]
  },
  {
   "cell_type": "code",
   "execution_count": 10,
   "metadata": {},
   "outputs": [
    {
     "name": "stdout",
     "output_type": "stream",
     "text": [
      "x is greater\n"
     ]
    }
   ],
   "source": [
    "x=15\n",
    "y=2\n",
    "if(x>y):\n",
    "    print(\"x is greater\")\n",
    "else:\n",
    "    print(\"y is greater\")\n"
   ]
  },
  {
   "cell_type": "code",
   "execution_count": 17,
   "metadata": {},
   "outputs": [
    {
     "name": "stdout",
     "output_type": "stream",
     "text": [
      "100\n"
     ]
    }
   ],
   "source": [
    "a=10\n",
    "b=10\n",
    "if(a==b):\n",
    "    print(a*a);\n",
    "        \n",
    "else:\n",
    "     print(a*b);"
   ]
  },
  {
   "cell_type": "code",
   "execution_count": 21,
   "metadata": {},
   "outputs": [
    {
     "name": "stdout",
     "output_type": "stream",
     "text": [
      "positive\n"
     ]
    }
   ],
   "source": [
    "# printing pos,neg number\n",
    "x=12\n",
    "if(x==0):\n",
    "    print(\"positive\")\n",
    "elif(x<0):\n",
    "        print(\"negative\")\n",
    "else:\n",
    "    print(\"positive\")"
   ]
  },
  {
   "cell_type": "markdown",
   "metadata": {},
   "source": [
    "while(condition)\n",
    " loop statements\n",
    " increment\n",
    " "
   ]
  },
  {
   "cell_type": "code",
   "execution_count": 24,
   "metadata": {},
   "outputs": [
    {
     "name": "stdout",
     "output_type": "stream",
     "text": [
      "1\n",
      "2\n",
      "3\n",
      "4\n",
      "5\n",
      "6\n",
      "7\n",
      "8\n",
      "9\n",
      "10\n"
     ]
    }
   ],
   "source": [
    "# print numbers from 1 to 10\n",
    "n=1\n",
    "while(n<=10):\n",
    "    print(n);\n",
    "    n=n+1;"
   ]
  },
  {
   "cell_type": "code",
   "execution_count": 1,
   "metadata": {},
   "outputs": [
    {
     "name": "stdout",
     "output_type": "stream",
     "text": [
      "10\n",
      "9\n",
      "8\n",
      "7\n",
      "6\n",
      "5\n",
      "4\n",
      "3\n",
      "2\n",
      "1\n"
     ]
    }
   ],
   "source": [
    "# print no from 10 to 2\n",
    "n=10\n",
    "while(n>=1):\n",
    "    print(n);\n",
    "    n=n-1;"
   ]
  },
  {
   "cell_type": "code",
   "execution_count": 2,
   "metadata": {},
   "outputs": [
    {
     "name": "stdout",
     "output_type": "stream",
     "text": [
      "22\n",
      "23\n",
      "24\n",
      "25\n",
      "26\n",
      "27\n",
      "28\n",
      "29\n",
      "30\n",
      "31\n",
      "32\n",
      "33\n",
      "34\n",
      "35\n",
      "36\n",
      "37\n",
      "38\n",
      "39\n",
      "40\n",
      "41\n",
      "42\n",
      "43\n",
      "44\n",
      "45\n"
     ]
    }
   ],
   "source": [
    "# print no from 22 to 45\n",
    "n=22\n",
    "m=45\n",
    "while(n<=m):\n",
    "    print(n);\n",
    "    n=n+1;"
   ]
  },
  {
   "cell_type": "code",
   "execution_count": 3,
   "metadata": {},
   "outputs": [
    {
     "name": "stdout",
     "output_type": "stream",
     "text": [
      "enter lower limit1\n",
      "enter upper limit100\n",
      "2450\n"
     ]
    }
   ],
   "source": [
    "# sum of even numbers from 1 to100\n",
    "x=int(input(\"enter lower limit\"));\n",
    "y=int(input(\"enter upper limit\"));\n",
    "sum=0;\n",
    "while(x!=y):\n",
    "    if(x%2==0):\n",
    "        sum=sum+x;\n",
    "    x=x+1;\n",
    "print(sum);\n",
    " "
   ]
  },
  {
   "cell_type": "code",
   "execution_count": 1,
   "metadata": {},
   "outputs": [
    {
     "name": "stdout",
     "output_type": "stream",
     "text": [
      "enter nuber123\n",
      "3\n",
      "2\n",
      "1\n"
     ]
    }
   ],
   "source": [
    "#reverse of a number and print digit\n",
    "a=int(input(\"enter nuber\"));\n",
    "while(a>0):\n",
    "    b=a%10;\n",
    "    print(b);\n",
    "    a=a/10;\n",
    "    a=int(a)"
   ]
  },
  {
   "cell_type": "code",
   "execution_count": 2,
   "metadata": {},
   "outputs": [
    {
     "name": "stdout",
     "output_type": "stream",
     "text": [
      "enter nuber123\n",
      "2\n"
     ]
    }
   ],
   "source": [
    "#printing evennumber from given digit\n",
    "a=int(input(\"enter nuber\"));\n",
    "j=0;\n",
    "while(a>0):\n",
    "    b=a%10;\n",
    "    if(b%2==0):\n",
    "        j=j+b;\n",
    "    a=a/10;\n",
    "    a=int(a);\n",
    "print(j);"
   ]
  },
  {
   "cell_type": "code",
   "execution_count": 3,
   "metadata": {},
   "outputs": [
    {
     "name": "stdout",
     "output_type": "stream",
     "text": [
      "enter nuber246\n",
      "six\n",
      "four\n",
      "two\n"
     ]
    }
   ],
   "source": [
    "#reverse of a number and print in words\n",
    "a=int(input(\"enter number\"));\n",
    "while(a>0):\n",
    "    b=a%10;\n",
    "    if(b==0):\n",
    "        print(\"zero\");\n",
    "    elif(b==3):\n",
    "        print(\"three\");\n",
    "    elif(b==1):\n",
    "        print(\"one\");\n",
    "    elif(b==2):\n",
    "        print(\"two\");\n",
    "    elif(b==4):\n",
    "        print(\"four\");\n",
    "    elif(b==5):\n",
    "        print(\"five\");\n",
    "    elif(b==6):\n",
    "        print(\"six\");\n",
    "    elif(b==7):\n",
    "        print(\"seven\");\n",
    "    elif(b==8):\n",
    "        print(\"eight\");\n",
    "    elif(b==9):\n",
    "        print(\"nine\");\n",
    "        \n",
    "    a=a/10;\n",
    "    a=int(a)"
   ]
  },
  {
   "cell_type": "code",
   "execution_count": 3,
   "metadata": {},
   "outputs": [
    {
     "name": "stdout",
     "output_type": "stream",
     "text": [
      "enter number120\n",
      "enter number220\n",
      "enter number2\n",
      "42\n"
     ]
    }
   ],
   "source": [
    "a=int(input(\"enter number\"));\n",
    "o=int(input(\"enter number\"));\n",
    "c=int(input(\"enter number\"));\n",
    "k=0;\n",
    "while(a<=o):\n",
    "    l=a;\n",
    "    while(l>0):\n",
    "        b=l%10;\n",
    "        if(b==c):\n",
    "            k=k+1;\n",
    "        l=l/10;\n",
    "        l=int(l);\n",
    "    a=a+1;\n",
    "print(k);"
   ]
  },
  {
   "cell_type": "code",
   "execution_count": 9,
   "metadata": {},
   "outputs": [
    {
     "name": "stdout",
     "output_type": "stream",
     "text": [
      "1 2 3 4 5 6 \n",
      "1 2 3 4 5 6 7 8 9 \n"
     ]
    }
   ],
   "source": [
    "def printnaturalnumber(n):\n",
    "    cnt=1;\n",
    "    while(cnt<=n):\n",
    "        print(cnt,end=\" \");\n",
    "        cnt=cnt+1;\n",
    "    print()\n",
    "    return;\n",
    "printnaturalnumber(6);\n",
    "printnaturalnumber(9);\n",
    "    \n",
    "\n"
   ]
  },
  {
   "cell_type": "code",
   "execution_count": 17,
   "metadata": {},
   "outputs": [
    {
     "name": "stdout",
     "output_type": "stream",
     "text": [
      "24\n"
     ]
    }
   ],
   "source": [
    "def factorial(n):\n",
    "    fac=1;\n",
    "    while(n!=0):\n",
    "        fac=fac*n;\n",
    "        n=n-1;\n",
    "    return fac;\n",
    "print(factorial(4));"
   ]
  },
  {
   "cell_type": "code",
   "execution_count": 20,
   "metadata": {},
   "outputs": [
    {
     "name": "stdout",
     "output_type": "stream",
     "text": [
      "1\n"
     ]
    }
   ],
   "source": [
    "def countofpalindrome(n1,n2):\n",
    "    cou=0;\n",
    "    while(n1<=n2):\n",
    "        k=n1;\n",
    "        u=n1;\n",
    "        sum=0;\n",
    "        while(n1<=n2):\n",
    "            r=k%10;\n",
    "            sum=sum*10+r;\n",
    "            k=k/10;\n",
    "            k=int(k);\n",
    "            if(sum==u):\n",
    "                cou=cou+1;\n",
    "            n1=n1+1     \n",
    "    return cou;\n",
    "print(countofpalindrome(10,100))\n",
    "        "
   ]
  },
  {
   "cell_type": "code",
   "execution_count": null,
   "metadata": {},
   "outputs": [],
   "source": []
  },
  {
   "cell_type": "code",
   "execution_count": null,
   "metadata": {},
   "outputs": [],
   "source": []
  }
 ],
 "metadata": {
  "kernelspec": {
   "display_name": "Python 3",
   "language": "python",
   "name": "python3"
  },
  "language_info": {
   "codemirror_mode": {
    "name": "ipython",
    "version": 3
   },
   "file_extension": ".py",
   "mimetype": "text/x-python",
   "name": "python",
   "nbconvert_exporter": "python",
   "pygments_lexer": "ipython3",
   "version": "3.7.3"
  }
 },
 "nbformat": 4,
 "nbformat_minor": 2
}

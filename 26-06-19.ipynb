{
 "cells": [
  {
   "cell_type": "code",
   "execution_count": null,
   "metadata": {},
   "outputs": [],
   "source": [
    "#strings function-inbuilt function"
   ]
  },
  {
   "cell_type": "code",
   "execution_count": 3,
   "metadata": {},
   "outputs": [
    {
     "name": "stdout",
     "output_type": "stream",
     "text": [
      "False\n",
      "True\n"
     ]
    }
   ],
   "source": [
    "s=\"Python\"\n",
    "s1=\"praveen\"\n",
    "print(s.islower())\n",
    "print(s1.islower())\n"
   ]
  },
  {
   "cell_type": "code",
   "execution_count": 6,
   "metadata": {},
   "outputs": [
    {
     "name": "stdout",
     "output_type": "stream",
     "text": [
      "False\n"
     ]
    }
   ],
   "source": [
    "s1=\"praveen\"\n",
    "print(s1.isupper())\n"
   ]
  },
  {
   "cell_type": "code",
   "execution_count": 8,
   "metadata": {},
   "outputs": [
    {
     "name": "stdout",
     "output_type": "stream",
     "text": [
      "False\n"
     ]
    }
   ],
   "source": [
    "s1=\"praveen23\"\n",
    "print(s1.isnumeric())\n"
   ]
  },
  {
   "cell_type": "code",
   "execution_count": 9,
   "metadata": {},
   "outputs": [
    {
     "name": "stdout",
     "output_type": "stream",
     "text": [
      "False\n"
     ]
    }
   ],
   "source": [
    "s1=\"praveen23\"\n",
    "print(s1.isalpha())\n"
   ]
  },
  {
   "cell_type": "code",
   "execution_count": 10,
   "metadata": {},
   "outputs": [
    {
     "name": "stdout",
     "output_type": "stream",
     "text": [
      "True\n",
      "False\n"
     ]
    }
   ],
   "source": [
    "s=\"Python\"\n",
    "s1=\"praveen\"\n",
    "print(s.istitle())\n",
    "print(s1.istitle())\n"
   ]
  },
  {
   "cell_type": "code",
   "execution_count": 14,
   "metadata": {},
   "outputs": [
    {
     "name": "stdout",
     "output_type": "stream",
     "text": [
      "False\n",
      "True\n"
     ]
    }
   ],
   "source": [
    "s=\"Py thon\"\n",
    "s1=\" \"\n",
    "print(s.isspace())\n",
    "print(s1.isspace())\n"
   ]
  },
  {
   "cell_type": "code",
   "execution_count": 15,
   "metadata": {},
   "outputs": [
    {
     "name": "stdout",
     "output_type": "stream",
     "text": [
      "p y t h o n\n"
     ]
    }
   ],
   "source": [
    "str=\"python\"\n",
    "print(\" \".join(str))"
   ]
  },
  {
   "cell_type": "code",
   "execution_count": 13,
   "metadata": {},
   "outputs": [
    {
     "name": "stdout",
     "output_type": "stream",
     "text": [
      "p,y,t,h,o,n\n"
     ]
    }
   ],
   "source": [
    "str=\"python\"\n",
    "print(\",\".join(str))"
   ]
  },
  {
   "cell_type": "code",
   "execution_count": 16,
   "metadata": {},
   "outputs": [
    {
     "name": "stdout",
     "output_type": "stream",
     "text": [
      "python,programming,easy\n"
     ]
    }
   ],
   "source": [
    "print(\",\".join([\"python\",\"programming\",\"easy\"]))"
   ]
  },
  {
   "cell_type": "code",
   "execution_count": 17,
   "metadata": {},
   "outputs": [
    {
     "name": "stdout",
     "output_type": "stream",
     "text": [
      "python programming easy\n"
     ]
    }
   ],
   "source": [
    "print(\" \".join([\"python\",\"programming\",\"easy\"]))"
   ]
  },
  {
   "cell_type": "code",
   "execution_count": 18,
   "metadata": {},
   "outputs": [
    {
     "name": "stdout",
     "output_type": "stream",
     "text": [
      "pythonprogrammingeasy\n"
     ]
    }
   ],
   "source": [
    "print(\",\".join([\"python\"\"programming\"\"easy\"]))"
   ]
  },
  {
   "cell_type": "code",
   "execution_count": 19,
   "metadata": {},
   "outputs": [
    {
     "name": "stdout",
     "output_type": "stream",
     "text": [
      "['Python', 'programming']\n",
      "False\n"
     ]
    }
   ],
   "source": [
    "s=\"Python programming\"\n",
    "s1=\"praveen\"\n",
    "print(s.split())\n",
    "print(s1.istitle())\n"
   ]
  },
  {
   "cell_type": "code",
   "execution_count": 4,
   "metadata": {},
   "outputs": [
    {
     "name": "stdout",
     "output_type": "stream",
     "text": [
      "['Python', 'programming']\n",
      "0\n",
      "False\n",
      "False\n"
     ]
    }
   ],
   "source": [
    "s=\"Python programming\"\n",
    "s1=\"praveen\"\n",
    "s2=\"praveen\"\n",
    "\n",
    "lst=s.split();\n",
    "print(lst)\n",
    "print(lst.index(\"Python\"))\n",
    "print(s1.istitle())\n",
    "print(s2.istitle())\n"
   ]
  },
  {
   "cell_type": "code",
   "execution_count": 3,
   "metadata": {},
   "outputs": [
    {
     "name": "stdout",
     "output_type": "stream",
     "text": [
      "java programming\n",
      "False\n"
     ]
    }
   ],
   "source": [
    "s=\"Python programming\"\n",
    "s1=\"praveen\"\n",
    "print(s.replace(\"Python\",\"java\"))\n",
    "print(s1.istitle())\n"
   ]
  },
  {
   "cell_type": "code",
   "execution_count": 11,
   "metadata": {},
   "outputs": [
    {
     "name": "stdout",
     "output_type": "stream",
     "text": [
      "('Python', 'programming', 2019, 2020, 'easy')\n",
      "t1[0]= Python\n",
      "t1[0]= Python\n",
      "t1[2:-2]= (2019,)\n",
      "t1[2::-2]= (2019, 'Python')\n"
     ]
    }
   ],
   "source": [
    "#tuple list\n",
    "t1=\"Python\", \"programming\",2019,2020,\"easy\"\n",
    "print(t1)\n",
    "print(\"t1[0]=\",t1[0])\n",
    "print(\"t1[0]=\",t1[0])\n",
    "print(\"t1[2:-2]=\",t1[2:-2])\n",
    "print(\"t1[2::-2]=\",t1[2::-2])"
   ]
  },
  {
   "cell_type": "code",
   "execution_count": null,
   "metadata": {},
   "outputs": [],
   "source": []
  },
  {
   "cell_type": "code",
   "execution_count": null,
   "metadata": {},
   "outputs": [],
   "source": [
    "#tuple syntax\n",
    "#len\n",
    "min\n",
    "max\n",
    "cmp"
   ]
  },
  {
   "cell_type": "code",
   "execution_count": 34,
   "metadata": {},
   "outputs": [
    {
     "name": "stdout",
     "output_type": "stream",
     "text": [
      "6\n",
      "1\n"
     ]
    }
   ],
   "source": [
    "t=(1,2,3,4,5,6)\n",
    "t1=(1,2,3,4,5,6)\n",
    "print(max(t))\n",
    "print(min(t))"
   ]
  },
  {
   "cell_type": "code",
   "execution_count": 26,
   "metadata": {},
   "outputs": [
    {
     "name": "stdout",
     "output_type": "stream",
     "text": [
      "('p', 'k', 'i', 't')\n"
     ]
    }
   ],
   "source": [
    "lst=[\"p\",\"k\",\"i\",\"t\"]\n",
    "tuple1=tuple(lst);\n",
    "print(tuple1)"
   ]
  },
  {
   "cell_type": "code",
   "execution_count": 28,
   "metadata": {},
   "outputs": [
    {
     "name": "stdout",
     "output_type": "stream",
     "text": [
      "user1[name]= anil\n",
      "user1[age]=  23\n",
      "user1[emailid]=  anil@gma\n",
      "anil\n"
     ]
    }
   ],
   "source": [
    "#tuple in dics\n",
    "user1={'name':'anil','age':23,'emailid':'anil@gma'}\n",
    "print(\"user1[name]=\",user1['name'])\n",
    "print(\"user1[age]= \",user1['age'])\n",
    "print(\"user1[emailid]= \",user1['emailid'])\n",
    "print(user1['name'])"
   ]
  },
  {
   "cell_type": "code",
   "execution_count": 29,
   "metadata": {},
   "outputs": [
    {
     "name": "stdout",
     "output_type": "stream",
     "text": [
      "user1[name]= anil\n",
      "user1[age]=  23\n",
      "user1[emailid]=  anil@gma\n"
     ]
    },
    {
     "ename": "NameError",
     "evalue": "name 'name' is not defined",
     "output_type": "error",
     "traceback": [
      "\u001b[1;31m---------------------------------------------------------------------------\u001b[0m",
      "\u001b[1;31mNameError\u001b[0m                                 Traceback (most recent call last)",
      "\u001b[1;32m<ipython-input-29-27230f09a344>\u001b[0m in \u001b[0;36m<module>\u001b[1;34m\u001b[0m\n\u001b[0;32m      4\u001b[0m \u001b[0mprint\u001b[0m\u001b[1;33m(\u001b[0m\u001b[1;34m\"user1[age]= \"\u001b[0m\u001b[1;33m,\u001b[0m\u001b[0muser1\u001b[0m\u001b[1;33m[\u001b[0m\u001b[1;34m'age'\u001b[0m\u001b[1;33m]\u001b[0m\u001b[1;33m)\u001b[0m\u001b[1;33m\u001b[0m\u001b[1;33m\u001b[0m\u001b[0m\n\u001b[0;32m      5\u001b[0m \u001b[0mprint\u001b[0m\u001b[1;33m(\u001b[0m\u001b[1;34m\"user1[emailid]= \"\u001b[0m\u001b[1;33m,\u001b[0m\u001b[0muser1\u001b[0m\u001b[1;33m[\u001b[0m\u001b[1;34m'emailid'\u001b[0m\u001b[1;33m]\u001b[0m\u001b[1;33m)\u001b[0m\u001b[1;33m\u001b[0m\u001b[1;33m\u001b[0m\u001b[0m\n\u001b[1;32m----> 6\u001b[1;33m \u001b[1;32mdel\u001b[0m \u001b[0muser1\u001b[0m\u001b[1;33m[\u001b[0m\u001b[0mname\u001b[0m\u001b[1;33m]\u001b[0m\u001b[1;33m\u001b[0m\u001b[1;33m\u001b[0m\u001b[0m\n\u001b[0m\u001b[0;32m      7\u001b[0m \u001b[0mprint\u001b[0m\u001b[1;33m(\u001b[0m\u001b[0muser1\u001b[0m\u001b[1;33m[\u001b[0m\u001b[1;34m'name'\u001b[0m\u001b[1;33m]\u001b[0m\u001b[1;33m)\u001b[0m\u001b[1;33m\u001b[0m\u001b[1;33m\u001b[0m\u001b[0m\n",
      "\u001b[1;31mNameError\u001b[0m: name 'name' is not defined"
     ]
    }
   ],
   "source": [
    "#error del\n",
    "user1={'name':'anil','age':23,'emailid':'anil@gma'}\n",
    "print(\"user1[name]=\",user1['name'])\n",
    "print(\"user1[age]= \",user1['age'])\n",
    "print(\"user1[emailid]= \",user1['emailid'])\n",
    "del user1[name]\n",
    "print(user1['name'])"
   ]
  },
  {
   "cell_type": "code",
   "execution_count": 32,
   "metadata": {},
   "outputs": [],
   "source": [
    "#using clear /del \n",
    "user1={'name':'anil','age':23,'emailid':'anil@gma'}\n",
    "\n",
    "del user1['emailid']\n",
    "user1.clear()\n",
    "del user1"
   ]
  },
  {
   "cell_type": "code",
   "execution_count": 36,
   "metadata": {},
   "outputs": [
    {
     "name": "stdout",
     "output_type": "stream",
     "text": [
      "{'name': 'anil', 'age': 23, 'emailid': 'anil@gma'}\n",
      "{'name': 'anil', 'age': 23, 'emailid': 'anil@gma'}\n",
      "{'name': 'anil', 'age': 23, 'emailid': 'anil@gma', 'address': 'hyderabad'}\n",
      "{'name': 'anil', 'age': 23, 'emailid': 'anil@gma'}\n"
     ]
    }
   ],
   "source": [
    "# dictionary object\n",
    "user1={'name':'anil','age':23,'emailid':'anil@gma'}\n",
    "user2=user1.copy()\n",
    "print(user1)\n",
    "print(user2)\n",
    "user1['address']='hyderabad'\n",
    "print(user1)\n",
    "print(user2)\n"
   ]
  },
  {
   "cell_type": "code",
   "execution_count": 37,
   "metadata": {},
   "outputs": [
    {
     "ename": "AttributeError",
     "evalue": "'dict' object has no attribute 'item'",
     "output_type": "error",
     "traceback": [
      "\u001b[1;31m---------------------------------------------------------------------------\u001b[0m",
      "\u001b[1;31mAttributeError\u001b[0m                            Traceback (most recent call last)",
      "\u001b[1;32m<ipython-input-37-090685625e0e>\u001b[0m in \u001b[0;36m<module>\u001b[1;34m\u001b[0m\n\u001b[0;32m      1\u001b[0m \u001b[0muser1\u001b[0m\u001b[1;33m=\u001b[0m\u001b[1;33m{\u001b[0m\u001b[1;34m'name'\u001b[0m\u001b[1;33m:\u001b[0m\u001b[1;34m'anil'\u001b[0m\u001b[1;33m,\u001b[0m\u001b[1;34m'age'\u001b[0m\u001b[1;33m:\u001b[0m\u001b[1;36m23\u001b[0m\u001b[1;33m,\u001b[0m\u001b[1;34m'emailid'\u001b[0m\u001b[1;33m:\u001b[0m\u001b[1;34m'anil@gma'\u001b[0m\u001b[1;33m}\u001b[0m\u001b[1;33m\u001b[0m\u001b[1;33m\u001b[0m\u001b[0m\n\u001b[0;32m      2\u001b[0m \u001b[0muser2\u001b[0m\u001b[1;33m=\u001b[0m\u001b[0muser1\u001b[0m\u001b[1;33m.\u001b[0m\u001b[0mcopy\u001b[0m\u001b[1;33m\u001b[0m\u001b[1;33m\u001b[0m\u001b[0m\n\u001b[1;32m----> 3\u001b[1;33m \u001b[0mprint\u001b[0m\u001b[1;33m(\u001b[0m\u001b[0muser1\u001b[0m\u001b[1;33m.\u001b[0m\u001b[0mitem\u001b[0m\u001b[1;33m)\u001b[0m\u001b[1;33m\u001b[0m\u001b[1;33m\u001b[0m\u001b[0m\n\u001b[0m\u001b[0;32m      4\u001b[0m \u001b[0mprint\u001b[0m\u001b[1;33m(\u001b[0m\u001b[0muser2\u001b[0m\u001b[1;33m.\u001b[0m\u001b[0mitem\u001b[0m\u001b[1;33m)\u001b[0m\u001b[1;33m\u001b[0m\u001b[1;33m\u001b[0m\u001b[0m\n",
      "\u001b[1;31mAttributeError\u001b[0m: 'dict' object has no attribute 'item'"
     ]
    }
   ],
   "source": [
    "user1={'name':'anil','age':23,'emailid':'anil@gma'}\n",
    "user2=user1.copy\n",
    "print(user1.item)\n",
    "print(user2.item)"
   ]
  },
  {
   "cell_type": "code",
   "execution_count": null,
   "metadata": {},
   "outputs": [],
   "source": [
    "lst=['python','programing']\n",
    "print('%S %S'%(user[0],user[1]))\n",
    "print()"
   ]
  },
  {
   "cell_type": "code",
   "execution_count": 1,
   "metadata": {},
   "outputs": [
    {
     "name": "stdout",
     "output_type": "stream",
     "text": [
      "python programming\n",
      "python programming\n"
     ]
    }
   ],
   "source": [
    "user=['python','programming']\n",
    "print('%s %s'%(user[0],user[1]))\n",
    "print('{0} {1}'.format(user[0],user[1]))"
   ]
  },
  {
   "cell_type": "code",
   "execution_count": 2,
   "metadata": {},
   "outputs": [
    {
     "name": "stdout",
     "output_type": "stream",
     "text": [
      "contact anil added\n"
     ]
    }
   ],
   "source": [
    "con={}\n",
    "def add(name,phone):\n",
    "  if name not in con:\n",
    "    con[name]=phone;\n",
    "    print(\"contact %s added\"%name)\n",
    "  else:\n",
    "    print(\"contact %s already\"%name)\n",
    "  return;\n",
    "add(\"anil\",9088698)"
   ]
  },
  {
   "cell_type": "code",
   "execution_count": 3,
   "metadata": {},
   "outputs": [
    {
     "name": "stdout",
     "output_type": "stream",
     "text": [
      "anil : 9088698\n"
     ]
    }
   ],
   "source": [
    "def searcon(name):\n",
    "  if name in con:\n",
    "    print(name,\":\",con[name]);\n",
    "  else:\n",
    "    print(\"%s does not exists\"%name);\n",
    "  return\n",
    "searcon(\"anil\")"
   ]
  },
  {
   "cell_type": "code",
   "execution_count": 4,
   "metadata": {},
   "outputs": [
    {
     "name": "stdout",
     "output_type": "stream",
     "text": [
      "{'anil': 9088698}\n"
     ]
    }
   ],
   "source": [
    "print(con)\n"
   ]
  },
  {
   "cell_type": "code",
   "execution_count": 5,
   "metadata": {},
   "outputs": [
    {
     "name": "stdout",
     "output_type": "stream",
     "text": [
      "2 contact added successful\n",
      "dict_keys(['dinesh', 'ajay'])\n"
     ]
    }
   ],
   "source": [
    "def impcon(newcon):\n",
    "  con.update(newcon);\n",
    "  print(len(newcon.keys()),\"contact added successful\");\n",
    "  return;\n",
    "newcon={'dinesh':90888,'ajay':9988799090}\n",
    "impcon(newcon);\n",
    "print(newcon.keys());"
   ]
  },
  {
   "cell_type": "code",
   "execution_count": 6,
   "metadata": {},
   "outputs": [
    {
     "name": "stdout",
     "output_type": "stream",
     "text": [
      "{'anil': 9088698, 'dinesh': 90888, 'ajay': 9988799090}\n"
     ]
    }
   ],
   "source": [
    "print(con)\n"
   ]
  },
  {
   "cell_type": "code",
   "execution_count": 7,
   "metadata": {},
   "outputs": [],
   "source": [
    "def delcon(name):\n",
    "  if name in con:\n",
    "    del con[name];\n",
    "  else:\n",
    "    print(\"%s does not exists\"%name);\n",
    "  return;\n",
    "delcon(\"anil\")"
   ]
  },
  {
   "cell_type": "code",
   "execution_count": 8,
   "metadata": {},
   "outputs": [
    {
     "name": "stdout",
     "output_type": "stream",
     "text": [
      "{'dinesh': 90888, 'ajay': 9988799090}\n"
     ]
    }
   ],
   "source": [
    "print(con)\n"
   ]
  },
  {
   "cell_type": "code",
   "execution_count": 9,
   "metadata": {},
   "outputs": [],
   "source": [
    "def  updcon(name,phone):\n",
    "  if name in con:\n",
    "    con[name]=phone;\n",
    "  else:\n",
    "    print(name,\"not exists\");\n",
    "  return;\n",
    "updcon('dinesh',90887)\n"
   ]
  },
  {
   "cell_type": "code",
   "execution_count": 10,
   "metadata": {},
   "outputs": [
    {
     "data": {
      "text/plain": [
       "120"
      ]
     },
     "execution_count": 10,
     "metadata": {},
     "output_type": "execute_result"
    }
   ],
   "source": [
    "#packages and modules\n",
    "from math import factorial as fact\n",
    "fact(5)"
   ]
  },
  {
   "cell_type": "code",
   "execution_count": 11,
   "metadata": {},
   "outputs": [
    {
     "data": {
      "text/plain": [
       "120"
      ]
     },
     "execution_count": 11,
     "metadata": {},
     "output_type": "execute_result"
    }
   ],
   "source": [
    "import math\n",
    "math.factorial(5)"
   ]
  },
  {
   "cell_type": "code",
   "execution_count": 12,
   "metadata": {},
   "outputs": [
    {
     "name": "stdout",
     "output_type": "stream",
     "text": [
      "66 21 62 56 72 101 59 24 19 43 "
     ]
    }
   ],
   "source": [
    "\n",
    "#generate random numbers between two limits\n",
    "import random;\n",
    "def genrannum(n,lb,ub):\n",
    "  for i in range(0,n):\n",
    "    print(random.randint(lb,ub),end=\" \");\n",
    "  return;\n",
    "genrannum(10,12,120)"
   ]
  },
  {
   "cell_type": "code",
   "execution_count": 13,
   "metadata": {},
   "outputs": [
    {
     "ename": "SyntaxError",
     "evalue": "invalid syntax (<ipython-input-13-f0f8ffbfb472>, line 2)",
     "output_type": "error",
     "traceback": [
      "\u001b[1;36m  File \u001b[1;32m\"<ipython-input-13-f0f8ffbfb472>\"\u001b[1;36m, line \u001b[1;32m2\u001b[0m\n\u001b[1;33m    a={'a'=1,'b'=2}\u001b[0m\n\u001b[1;37m          ^\u001b[0m\n\u001b[1;31mSyntaxError\u001b[0m\u001b[1;31m:\u001b[0m invalid syntax\n"
     ]
    }
   ],
   "source": [
    "\n",
    "a={'a'=1,'b'=2}\n",
    "print(a['a','b'])\n"
   ]
  },
  {
   "cell_type": "code",
   "execution_count": 14,
   "metadata": {},
   "outputs": [
    {
     "name": "stdout",
     "output_type": "stream",
     "text": [
      "3\n",
      "1\n",
      "2\n",
      "9.0\n",
      "-5.5\n",
      "120\n",
      "5\n",
      "True\n",
      "(0.3999999999999999, 2.0)\n",
      "8103.083927575384\n"
     ]
    }
   ],
   "source": [
    "#assignment\n",
    "import math\n",
    "a=2.4\n",
    "print(math.ceil(a))\n",
    "print(min(1,2,3,4,5,6,7,8,9,10))\n",
    "print(math.floor(a))\n",
    "b=-9;\n",
    "c=9\n",
    "print(math.fabs(b))\n",
    "print (math.copysign(5.5, -10)) \n",
    "print(math.factorial(5))\n",
    "print (math.gcd(5,15)) \n",
    "print(math.isfinite(a))\n",
    "print(math.modf(a))\n",
    "print(math.exp(c))\n"
   ]
  },
  {
   "cell_type": "code",
   "execution_count": 15,
   "metadata": {},
   "outputs": [
    {
     "name": "stdout",
     "output_type": "stream",
     "text": [
      "63\n",
      "  \n",
      "63.0\n",
      "63.0\n",
      "1982608315404440064116146708361898137544773690227268628106279599612729753600000000000000\n",
      "63\n",
      "True\n",
      "(0.0, 63.0)\n",
      "2.29378315946961e+27\n",
      "34\n",
      "  \n",
      "34.0\n",
      "34.0\n",
      "295232799039604140847618609643520000000\n",
      "34\n",
      "True\n",
      "(0.0, 34.0)\n",
      "583461742527454.9\n",
      "66\n",
      "  \n",
      "66.0\n",
      "66.0\n",
      "544344939077443064003729240247842752644293064388798874532860126869671081148416000000000000000\n",
      "66\n",
      "True\n",
      "(0.0, 66.0)\n",
      "4.607186634331292e+28\n",
      "90\n",
      "  \n",
      "90.0\n",
      "90.0\n",
      "1485715964481761497309522733620825737885569961284688766942216863704985393094065876545992131370884059645617234469978112000000000000000000000\n",
      "90\n",
      "True\n",
      "(0.0, 90.0)\n",
      "1.2204032943178408e+39\n",
      "62\n",
      "  \n",
      "62.0\n",
      "62.0\n",
      "31469973260387937525653122354950764088012280797258232192163168247821107200000000000000\n",
      "62\n",
      "True\n",
      "(0.0, 62.0)\n",
      "8.438356668741454e+26\n",
      "59\n",
      "  \n",
      "59.0\n",
      "59.0\n",
      "138683118545689835737939019720389406345902876772687432540821294940160000000000000\n",
      "59\n",
      "True\n",
      "(0.0, 59.0)\n",
      "4.2012104037905144e+25\n",
      "76\n",
      "  \n",
      "76.0\n",
      "76.0\n",
      "1885494701666050254987932260861146558230394535379329335672487982961844043495537923117729972224000000000000000000\n",
      "76\n",
      "True\n",
      "(0.0, 76.0)\n",
      "1.0148003881138887e+33\n",
      "22\n",
      "  \n",
      "22.0\n",
      "22.0\n",
      "1124000727777607680000\n",
      "22\n",
      "True\n",
      "(0.0, 22.0)\n",
      "3584912846.131592\n",
      "15\n",
      "  \n",
      "15.0\n",
      "15.0\n",
      "1307674368000\n",
      "15\n",
      "True\n",
      "(0.0, 15.0)\n",
      "3269017.3724721107\n",
      "43\n",
      "  \n",
      "43.0\n",
      "43.0\n",
      "60415263063373835637355132068513997507264512000000000\n",
      "43\n",
      "True\n",
      "(0.0, 43.0)\n",
      "4.727839468229346e+18\n"
     ]
    }
   ],
   "source": [
    "import random;\n",
    "def genrannum(n,lb,ub):\n",
    "  for i in range(0,n):\n",
    "    o=random.randint(lb,ub);\n",
    "    \n",
    "    print(math.ceil(o))\n",
    "    print(\"  \");\n",
    "    print(math.fabs(o))\n",
    "    print (math.copysign(o, o)) \n",
    "    print(math.factorial(o))\n",
    "    print (math.gcd(o,o)) \n",
    "    print(math.isfinite(o))\n",
    "    print(math.modf(o))\n",
    "    print(math.exp(o))\n",
    "    \n",
    "    \n",
    "  return;\n",
    "genrannum(10,12,120)"
   ]
  },
  {
   "cell_type": "code",
   "execution_count": null,
   "metadata": {},
   "outputs": [],
   "source": []
  }
 ],
 "metadata": {
  "kernelspec": {
   "display_name": "Python 3",
   "language": "python",
   "name": "python3"
  },
  "language_info": {
   "codemirror_mode": {
    "name": "ipython",
    "version": 3
   },
   "file_extension": ".py",
   "mimetype": "text/x-python",
   "name": "python",
   "nbconvert_exporter": "python",
   "pygments_lexer": "ipython3",
   "version": "3.7.3"
  }
 },
 "nbformat": 4,
 "nbformat_minor": 2
}
